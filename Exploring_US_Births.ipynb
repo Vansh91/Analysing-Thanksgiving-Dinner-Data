{
 "cells": [
  {
   "cell_type": "code",
   "execution_count": 1,
   "metadata": {
    "collapsed": false
   },
   "outputs": [
    {
     "name": "stdout",
     "output_type": "stream",
     "text": [
      "[[1994, 1, 1, 6, 8096], [1994, 1, 2, 7, 7772], [1994, 1, 3, 1, 10142], [1994, 1, 4, 2, 11248], [1994, 1, 5, 3, 11053], [1994, 1, 6, 4, 11406], [1994, 1, 7, 5, 11251], [1994, 1, 8, 6, 8653], [1994, 1, 9, 7, 7910], [1994, 1, 10, 1, 10498]]\n"
     ]
    }
   ],
   "source": [
    "f = open(\"US_births_1994-2003_CDC_NCHS.csv\", 'r')\n",
    "def read_csv(x):\n",
    "    reader = x.read()\n",
    "    split_string = reader.split('\\n')\n",
    "    string_list = split_string[1: len(split_string)]\n",
    "    final_list = []\n",
    "    for row in string_list:\n",
    "        int_fields = []\n",
    "        string_fields = row.split(',')\n",
    "        for i in range(0,5):\n",
    "            string_fields[i] = int(string_fields[i])\n",
    "            int_fields.append(string_fields[i])\n",
    "        final_list.append(int_fields)\n",
    "    return final_list\n",
    "cdc_list = read_csv(f)\n",
    "print(cdc_list[0:10])"
   ]
  },
  {
   "cell_type": "code",
   "execution_count": 2,
   "metadata": {
    "collapsed": false
   },
   "outputs": [
    {
     "name": "stdout",
     "output_type": "stream",
     "text": [
      "{1: 3232517, 2: 3018140, 3: 3322069, 4: 3185314, 5: 3350907, 6: 3296530, 7: 3498783, 8: 3525858, 9: 3439698, 10: 3378814, 11: 3171647, 12: 3301860}\n"
     ]
    }
   ],
   "source": [
    "def month_births(arr):\n",
    "    births_per_month = {}\n",
    "    for row in arr:\n",
    "        month = row[1]\n",
    "        births = row[4]\n",
    "        if month in births_per_month:\n",
    "            births_per_month[month] += births\n",
    "        else:\n",
    "            births_per_month[month] = births\n",
    "    return births_per_month\n",
    "\n",
    "cdc_month_births = month_births(cdc_list)\n",
    "print(cdc_month_births)    "
   ]
  },
  {
   "cell_type": "code",
   "execution_count": 10,
   "metadata": {
    "collapsed": false
   },
   "outputs": [
    {
     "name": "stdout",
     "output_type": "stream",
     "text": [
      "{1: 5789166, 2: 6446196, 3: 6322855, 4: 6288429, 5: 6233657, 6: 4562111, 7: 4079723}\n"
     ]
    }
   ],
   "source": [
    "def dow_births(arr):\n",
    "    births_per_week = {}\n",
    "    for row in arr:\n",
    "        dow = row[3]\n",
    "        births = row[4]\n",
    "        if dow in births_per_week:\n",
    "            births_per_week[dow] += births\n",
    "        else:\n",
    "            births_per_week[dow] = births\n",
    "    return births_per_week\n",
    "\n",
    "cdc_day_births = dow_births(cdc_list)\n",
    "print(cdc_day_births)\n",
    "    "
   ]
  },
  {
   "cell_type": "code",
   "execution_count": 21,
   "metadata": {
    "collapsed": false
   },
   "outputs": [
    {
     "name": "stdout",
     "output_type": "stream",
     "text": [
      "YEARLY {2000: 4058814, 2001: 4025933, 2002: 4021726, 2003: 4089950, 1994: 3952767, 1995: 3899589, 1996: 3891494, 1997: 3880894, 1998: 3941553, 1999: 3959417} \n",
      "\n",
      " MONTHLY {1: 3232517, 2: 3018140, 3: 3322069, 4: 3185314, 5: 3350907, 6: 3296530, 7: 3498783, 8: 3525858, 9: 3439698, 10: 3378814, 11: 3171647, 12: 3301860} \n",
      "\n",
      " DAY OF MONTH {1: 1276557, 2: 1288739, 3: 1304499, 4: 1288154, 5: 1299953, 6: 1304474, 7: 1310459, 8: 1312297, 9: 1303292, 10: 1320764, 11: 1314361, 12: 1318437, 13: 1277684, 14: 1320153, 15: 1319171, 16: 1315192, 17: 1324953, 18: 1326855, 19: 1318727, 20: 1324821, 21: 1322897, 22: 1317381, 23: 1293290, 24: 1288083, 25: 1272116, 26: 1284796, 27: 1294395, 28: 1307685, 29: 1223161, 30: 1202095, 31: 746696} \n",
      "\n",
      " DAY OF WEEK {1: 5789166, 2: 6446196, 3: 6322855, 4: 6288429, 5: 6233657, 6: 4562111, 7: 4079723}\n"
     ]
    }
   ],
   "source": [
    "def calc_counts(data, column):\n",
    "    births_per_request = {}\n",
    "    for row in data:\n",
    "        request = row[column]\n",
    "        births = row[4]\n",
    "        if request in births_per_request:\n",
    "            births_per_request[request] += births\n",
    "        else:\n",
    "            births_per_request[request] = births\n",
    "    return births_per_request\n",
    "\n",
    "cdc_year_births = calc_counts(cdc_list, 0)\n",
    "cdc_month_births = calc_counts(cdc_list, 1)\n",
    "cdc_dom_births = calc_counts(cdc_list, 2)\n",
    "cdc_dow_births = calc_counts(cdc_list, 3)\n",
    "print( 'YEARLY',cdc_year_births,'\\n\\n', 'MONTHLY', cdc_month_births,'\\n\\n', 'DAY OF MONTH', cdc_dom_births,'\\n\\n', 'DAY OF WEEK', cdc_dow_births)\n",
    "\n",
    "    "
   ]
  },
  {
   "cell_type": "code",
   "execution_count": 53,
   "metadata": {
    "collapsed": false
   },
   "outputs": [
    {
     "name": "stdout",
     "output_type": "stream",
     "text": [
      "('Highest value:', 2, 6446196, 'Least Value:', 7, 4079723)\n"
     ]
    }
   ],
   "source": [
    "list_of_dictionaries = []\n",
    "list_of_dictionaries.append(cdc_year_births)\n",
    "list_of_dictionaries.append(cdc_month_births)\n",
    "list_of_dictionaries.append(cdc_dom_births)\n",
    "list_of_dictionaries.append(cdc_dow_births)  \n",
    "# print(list_of_dictionaries)\n",
    "def max_n_min_value(arr):\n",
    "    for i in range(len(arr)):\n",
    "        k = list(arr[i].keys())\n",
    "        v = list(arr[i].values())\n",
    "        max_key = max(arr[i], key = arr[i].get)\n",
    "        min_key = min(arr[i], key = arr[i].get)\n",
    "    return 'Highest value:',max_key, arr[i][max_key], 'Least Value:', min_key, arr[i][min_key]\n",
    "max_births_yearly = max_n_min_value(list_of_dictionaries)\n",
    "print(max_births_yearly)"
   ]
  },
  {
   "cell_type": "code",
   "execution_count": 58,
   "metadata": {
    "collapsed": false
   },
   "outputs": [
    {
     "name": "stdout",
     "output_type": "stream",
     "text": [
      "('Highest value:', 2003, 4089950, 'Least Value:', 1997, 3880894)\n"
     ]
    }
   ],
   "source": [
    "list_of_dictionaries = []\n",
    "list_of_dictionaries.append(cdc_year_births)\n",
    "list_of_dictionaries.append(cdc_month_births)\n",
    "list_of_dictionaries.append(cdc_dom_births)\n",
    "list_of_dictionaries.append(cdc_dow_births)  \n",
    "# print(list_of_dictionaries[2])\n",
    "def max_n_min_value(arr):\n",
    "    for i in range(len(arr)):\n",
    "        k = list(arr[i].keys())\n",
    "        v = list(arr[i].values())\n",
    "        max_key = max(arr[i], key = arr[i].get)\n",
    "        min_key = min(arr[i], key = arr[i].get)\n",
    "        a = max_key\n",
    "        b = arr[i][max_key]\n",
    "        c = min_key\n",
    "        d = arr[i][min_key]\n",
    "        return 'Highest value:', a, b, 'Least Value:', c, d\n",
    "print(max_n_min_value(list_of_dictionaries))"
   ]
  }
 ],
 "metadata": {
  "anaconda-cloud": {},
  "kernelspec": {
   "display_name": "Python 3",
   "language": "python",
   "name": "python3"
  },
  "language_info": {
   "codemirror_mode": {
    "name": "ipython",
    "version": 3
   },
   "file_extension": ".py",
   "mimetype": "text/x-python",
   "name": "python",
   "nbconvert_exporter": "python",
   "pygments_lexer": "ipython3",
   "version": "3.4.3"
  }
 },
 "nbformat": 4,
 "nbformat_minor": 1
}
